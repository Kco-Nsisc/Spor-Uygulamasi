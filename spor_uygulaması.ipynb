{
 "cells": [
  {
   "cell_type": "code",
   "execution_count": 1,
   "metadata": {},
   "outputs": [],
   "source": [
    "from datetime import datetime\n",
    "sporhedef = 0\n",
    "suhedef = 0\n",
    "su = 0\n",
    "spor = 0\n",
    "class Uygulama():\n",
    "    def __init__(self, ad):\n",
    "        self.ad = ad\n",
    "        global suhedef\n",
    "        suhedef = int(input(\"Günde kaç bardak su içmeyi istiyorsunuz\"))\n",
    "        global sporhedef\n",
    "        sporhedef = int(input(\"Günde kaç dakika çalışmak istiyorsunuz\"))\n",
    "        print(\"Uygulamamıza başarıyla kayıt oldunuz.\")\n",
    "    def suİçtim(self,içilenMiktar):\n",
    "        global su\n",
    "        su = su\n",
    "        su2 = su + içilenMiktar\n",
    "        su3 = suhedef\n",
    "        su4 = su3 - su2\n",
    "        if su4 < 0 or su4 == 0:\n",
    "            print(\"Bugünlük içmen gereken su miktarını tamamladın. Unutma her şeyin fazlası zarar ;)\")\n",
    "        else:\n",
    "            print(f\"Bugün {su3} bardak su içmen gerekiyordu, {su2} bardak su içtiğin için bugün {su4} bardak daha su içmen gerekiyor\")\n",
    "        su = su + içilenMiktar\n",
    "        su4 = su3\n",
    "    def sporYaptım(self,yapılanSpor):\n",
    "        global spor\n",
    "        spor = spor\n",
    "        spor2 = spor + yapılanSpor\n",
    "        spor3 = sporhedef\n",
    "        spor4 = spor3 - spor2\n",
    "        if spor4 < 0 or spor4 == 0:\n",
    "            print(\"Bugünlük yapman gereken spor miktarını tamamladın. Unutma sağlam kafa sağlam vücutta bulunur ;)\")\n",
    "        else:\n",
    "            print(f\"Bugün {spor3} dakika spor yapman gerekiyordu. Bugün {spor2} dakika yaptığın için bugün {spor4} dakika daha spor yapman gerekiyor\")\n",
    "        spor = spor + yapılanSpor\n",
    "        spor4 = spor3"
   ]
  },
  {
   "cell_type": "code",
   "execution_count": 2,
   "metadata": {},
   "outputs": [
    {
     "name": "stdout",
     "output_type": "stream",
     "text": [
      "Günde kaç bardak su içmeyi istiyorsunuz8\n",
      "Günde kaç dakika çalışmak istiyorsunuz60\n",
      "Uygulamamıza başarıyla kayıt oldunuz.\n"
     ]
    }
   ],
   "source": [
    "Ali = Uygulama(\"Ali\")"
   ]
  },
  {
   "cell_type": "code",
   "execution_count": 3,
   "metadata": {},
   "outputs": [
    {
     "name": "stdout",
     "output_type": "stream",
     "text": [
      "Bugün 8 bardak su içmen gerekiyordu, 2 bardak su içtiğin için bugün 6 bardak daha su içmen gerekiyor\n"
     ]
    }
   ],
   "source": [
    "Ali.suİçtim(2)"
   ]
  },
  {
   "cell_type": "code",
   "execution_count": 4,
   "metadata": {},
   "outputs": [
    {
     "name": "stdout",
     "output_type": "stream",
     "text": [
      "Bugün 8 bardak su içmen gerekiyordu, 3 bardak su içtiğin için bugün 5 bardak daha su içmen gerekiyor\n"
     ]
    }
   ],
   "source": [
    "Ali.suİçtim(1)"
   ]
  },
  {
   "cell_type": "code",
   "execution_count": 5,
   "metadata": {},
   "outputs": [
    {
     "name": "stdout",
     "output_type": "stream",
     "text": [
      "Bugün 8 bardak su içmen gerekiyordu, 5 bardak su içtiğin için bugün 3 bardak daha su içmen gerekiyor\n"
     ]
    }
   ],
   "source": [
    "Ali.suİçtim(2)"
   ]
  },
  {
   "cell_type": "code",
   "execution_count": 6,
   "metadata": {},
   "outputs": [
    {
     "name": "stdout",
     "output_type": "stream",
     "text": [
      "Bugün 8 bardak su içmen gerekiyordu, 7 bardak su içtiğin için bugün 1 bardak daha su içmen gerekiyor\n"
     ]
    }
   ],
   "source": [
    "Ali.suİçtim(2)"
   ]
  },
  {
   "cell_type": "code",
   "execution_count": 7,
   "metadata": {},
   "outputs": [
    {
     "name": "stdout",
     "output_type": "stream",
     "text": [
      "Bugün 60 dakika spor yapman gerekiyordu. Bugün 10 dakika yaptığın için bugün 50 dakika daha spor yapman gerekiyor\n"
     ]
    }
   ],
   "source": [
    "Ali.sporYaptım(10)"
   ]
  },
  {
   "cell_type": "code",
   "execution_count": 8,
   "metadata": {},
   "outputs": [
    {
     "name": "stdout",
     "output_type": "stream",
     "text": [
      "Bugünlük yapman gereken spor miktarını tamamladın. Unutma sağlam kafa sağlam vücutta bulunur ;)\n"
     ]
    }
   ],
   "source": [
    "Ali.sporYaptım(50)"
   ]
  },
  {
   "cell_type": "code",
   "execution_count": 9,
   "metadata": {},
   "outputs": [
    {
     "name": "stdout",
     "output_type": "stream",
     "text": [
      "Bugünlük içmen gereken su miktarını tamamladın. Unutma her şeyin fazlası zarar ;)\n"
     ]
    }
   ],
   "source": [
    "Ali.suİçtim(2)"
   ]
  }
 ],
 "metadata": {
  "kernelspec": {
   "display_name": "Python 3",
   "language": "python",
   "name": "python3"
  },
  "language_info": {
   "codemirror_mode": {
    "name": "ipython",
    "version": 3
   },
   "file_extension": ".py",
   "mimetype": "text/x-python",
   "name": "python",
   "nbconvert_exporter": "python",
   "pygments_lexer": "ipython3",
   "version": "3.8.5"
  }
 },
 "nbformat": 4,
 "nbformat_minor": 4
}
